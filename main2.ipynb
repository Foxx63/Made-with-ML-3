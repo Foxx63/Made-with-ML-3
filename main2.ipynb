{
 "cells": [
  {
   "cell_type": "code",
   "ecution_count": 1,
   "metadata": {},
   "outputs": [],
   "source": [
    "import os\n",
    "import openai\n",
    "import sys\n",
    "\n",
    "sys.path.append('../..')\n",
    "\n",
    "from dotenv import load_dotenv, find_dotenv\n",
    "_ = load_dotenv(find_dotenv()) # read local .env file\n",
    "\n",
    "\n",
    "openai.api_key  = os.environ['OPENAI_API_KEY']"
   ]
  },
  {
   "cell_type": "code",
   "execution_count": 3,
   "metadata": {},
   "outputs": [
    {
     "name": "stdout",
     "output_type": "stream",
     "       2016  \n"
     ]
    }
   ],
   "source": [
    "from langchain.document_loaders import PyPDFLoader\n",
    "loader = PyPDFLoader(\"text.pdf\")\n",
    "pages = loader.load()\n",
    "page = pages[0]\n",
    "print(page.page_content)\n"
   ]
  },
  {
   "cell_type": "code",
   "execution_count": 4,
   "metadata": {},
   "outputs": [
    {
     "name": "stdout",
     "output_type": "stream",
     "text": [
      "Zioneeel International College  \n",
      "Junior Secondary Certificate Examination        2013  \n",
      "Royal Diadem Demonstration School         2009  \n",
      " \n",
      "Certifications  \n",
      "Institute of Chartered Accountant of Nigeria (Professional Stage)  \n",
      "Digital Literacy (Microsoft)  \n",
      "Certified in digital marketing (Google)  \n",
      "Digital marketing booth camp (Digic lan Africa)  \n",
      "Advanced Social Media Management (Simplilearn)  \n",
      " \n",
      " \n",
      "REFEREES 0 \n",
      "Ilemobayo  A. Akingbomdere   [FCA]  \n",
      "CEO  \n",
      "IleAkin Financial Consulting  \n",
      "+23423181112  \n",
      " \n",
      "Mr. Olatunbosun Olaniyi  \n",
      "Director  \n",
      "Mutual Alliance, Lagos State  \n",
      "+2348062147426  \n",
      " \n",
      " \n",
      " \n",
      " \n"
     ]
    }
   ],
   "source": [
    "page2 = pages[1]\n",
    "print(page2.page_content)\n"
   ]
  },
  {
   "cell_type": "code",
   "execution_count": 5,
   "metadata": {},
   "outputs": [
    {
     "name": "stdout",
     "output_type": "stream",
     "text": [
      "{'source': 'text.pdf', 'page': 1}\n"
     ]
    }
   ],
   "source": [
    "print(page2.metadata)"
   ]
  },
  {
   "cell_type": "code",
   "execution_count": 6,
   "metadata": {},
   "outputs": [
    {
     "name": "stdout",
     "output_type": "stream",
     "text": [
      "25\n",
      "2\n"
     ]
    }
   ],
   "source": [
    "from langchain.text_splitter import CharacterTextSplitter, RecursiveCharacterTextSplitter\n",
    "\n",
    "text_splitter_1 = CharacterTextSplitter( separator= \"\", chunk_size = 150, chunk_overlap = 10 , length_function = len )\n",
    "\n",
    "docs = text_splitter_1.split_documents(pages)\n",
    "\n",
    "\n",
    "print(len(docs))\n",
    "print(len(pages))"
   ]
  },
  {
   "cell_type": "code",
   "execution_count": 7,
   "metadata": {},
   "outputs": [
    {
     "name": "stdout",
     "output_type": "stream",
     "text": [
      "page_content='Zioneeel International College  \n",
      "Junior Secondary Certificate Examination        2013  \n",
      "Royal Diadem Demonstration School         2009  \n",
      " \n",
      "Certificati' metadata={'source': 'text.pdf', 'page': 1}\n"
     ]
    }
   ],
   "source": [
    "print(docs[20])"
   ]
  },
  {
   "cell_type": "markdown",
   "metadata": {},
   "source": [
    "#Convert the text/splits into embeddings\n"
   ]
  },
  {
   "cell_type": "code",
   "execution_count": 8,
   "metadata": {},
   "outputs": [
    {
     "name": "stderr",
     "output_type": "stream",
     "text": [
      "C:\\Users\\Lenovo\\AppData\\Local\\Temp\\ipykernel_4540\\1892061767.py:2: LangChainDeprecationWarning: The class `OpenAIEmbeddings` was deprecated in LangChain 0.0.9 and will be removed in 1.0. An updated version of the class exists in the :class:`~langchain-openai package and should be used instead. To use it run `pip install -U :class:`~langchain-openai` and import as `from :class:`~langchain_openai import OpenAIEmbeddings``.\n",
      "  embeddings = OpenAIEmbeddings()\n"
     ]
    }
   ],
   "source": [
    "from langchain.embeddings.openai import OpenAIEmbeddings\n",
    "embeddings = OpenAIEmbeddings()\n",
    "\n",
    "sentence1 = \"i like dogs\"\n",
    "sentence2 = \"i like canines\"\n",
    "sentence3 = \"the weather is ugly outside\""
   ]
  },
  {
   "cell_type": "code",
   "execution_count": 8,
   "metadata": {},
   "outputs": [],
   "source": [
    "\n",
    "\n",
    "#embedding1 = embeddings.embed_query(\"i like dogs\")\n",
    "#embedding2 = embeddings.embed_query(\"i like canines\")\n",
    "#enbedding3 = embeddings.embed_query(\"the weather is ugly outside\")"
   ]
  },
  {
   "cell_type": "code",
   "execution_count": 9,
   "metadata": {},
   "outputs": [],
   "source": [
    "import numpy as np\n",
    "\n",
    "#print(np.dot(embedding1 , embedding2))\n",
    "#print(np.dot(embedding2, enbedding3))"
   ]
  },
  {
   "cell_type": "markdown",
   "metadata": {},
   "source": [
    "Saving our vector embeddings into chromadb. ##chroma is light weight and in memory##"
   ]
  },
  {
   "cell_type": "code",
   "execution_count": 11,
   "metadata": {},
   "outputs": [],
   "source": [
    "from langchain_core.embeddings import Embeddings\n",
    "from chromadb.api.types import EmbeddingFunction\n",
    "\n",
    "\n",
    "class ChromaEmbeddingsAdapter(Embeddings):\n",
    "    def __init__(self, ef: EmbeddingFunction):\n",
    "        self.ef = ef\n",
    "\n",
    "    def embed_documents(self, texts):\n",
    "        return self.ef(texts)\n",
    "\n",
    "    def embed_query(self, query):\n",
    "        return self.ef([query])[0]"
   ]
  },
  {
   "cell_type": "code",
   "execution_count": 12,
   "metadata": {},
   "outputs": [],
   "source": [
    "from langchain.vectorstores import Chroma\n",
    "#from langchain.vectorstores.chroma import Chroma\n",
    "#from chromadb.utils.embedding_functions import SentenceTransformerEmbeddingFunction\n",
    "\n",
    "\n",
    "persist_directory = 'docs/chroma/'\n",
    "\n",
    "#!rm -rf ./docs/chroma \"\"\""
   ]
  },
  {
   "cell_type": "code",
   "execution_count": 13,
   "metadata": {},
   "outputs": [],
   "source": [
    "\"\"\"\n",
    "from chromadb.utils import embedding_functions\n",
    "default_ef = embedding_functions.DefaultEmbeddingFunction()\n",
    "# sentence_transformer_ef = embedding_functions.SentenceTransformerEmbeddingFunction(model_name=\"all-MiniLM-L6-v2\")\n",
    "\"\"\""
   ]
  },
  {
   "cell_type": "code",
   "execution_count": 28,
   "metadata": {},
   "outputs": [],
   "source": [
    "val = default_ef([\"foo\"])"
   ]
  },
  {
   "cell_type": "code",
   "execution_count": 29,
   "metadata": {},
   "outputs": [
    {
     "name": "stdout",
     "output_type": "stream",
     "text": [
      "[array([ 1.62334088e-02, -7.66235404e-03,  1.86064560e-02,  3.19689400e-02,\n",
      "       -3.10037564e-02,  8.77793506e-03,  1.59455329e-01, -9.52158961e-03,\n",
      "        2.02004593e-02, -4.54580896e-02,  1.39858145e-02, -1.76749248e-02,\n",
      "       -3.61696854e-02, -2.19433196e-02,  2.13877223e-02,  6.45928308e-02,\n",
      "       -3.65953296e-02, -1.21336468e-02, -4.36662138e-02, -3.51501182e-02,\n",
      "       -3.26299146e-02,  7.83413127e-02, -2.10416559e-02,  3.37276459e-02,\n",
      "       -2.41579041e-02, -1.07671544e-02, -4.28647920e-02,  1.35396710e-02,\n",
      "        5.03973775e-02, -9.19567123e-02,  3.54947262e-02,  1.80297449e-01,\n",
      "        1.57636572e-02, -4.94916141e-02, -3.97646846e-03,  3.21018480e-04,\n",
      "        2.18496863e-02,  3.53683420e-02,  4.18541394e-02,  4.89936955e-02,\n",
      "       -2.66513154e-02, -5.65087534e-02, -3.27685289e-02, -2.07233988e-02,\n",
      "       -1.12308925e-02,  2.79816445e-02, -1.05390316e-02,  3.03177740e-02,\n",
      "        1.76971052e-02,  3.63382022e-03, -8.70851148e-03, -4.94683310e-02,\n",
      "       -2.99031753e-02,  2.27507055e-02,  9.27642584e-02,  5.07257245e-02,\n",
      "        2.91726757e-02,  7.28879822e-03, -1.14962766e-02, -5.31319752e-02,\n",
      "       -2.78903693e-02,  3.00640017e-02, -6.02983944e-02, -4.30882573e-02,\n",
      "        5.00448048e-02,  1.56848331e-03, -1.83427315e-02,  4.65042926e-02,\n",
      "       -4.34056558e-02,  8.44046026e-02,  2.28819549e-02,  1.37904529e-02,\n",
      "        3.52546275e-02,  8.28269422e-02,  3.12242806e-02, -3.22558172e-02,\n",
      "        3.31901386e-02, -2.87920274e-02,  9.64195579e-02,  1.45412404e-02,\n",
      "       -4.25689556e-02,  7.83632696e-03, -7.43457526e-02, -3.84442322e-02,\n",
      "        7.90722109e-03,  5.60480403e-03,  1.46667780e-02, -1.57879461e-02,\n",
      "       -1.16329091e-02,  6.50265664e-02, -9.46292058e-02, -5.41801490e-02,\n",
      "        7.26668686e-02, -5.96090220e-03,  1.51508311e-02,  3.39048132e-02,\n",
      "        4.71993163e-02, -6.71391841e-03, -6.28966838e-02,  2.84261763e-01,\n",
      "       -7.49710388e-03,  1.19695626e-01,  4.70079593e-02, -2.39296723e-02,\n",
      "        1.54141728e-02, -2.98618581e-02, -1.42998621e-02,  1.84572786e-02,\n",
      "        5.91509268e-02, -3.44126448e-02, -1.63549315e-02, -2.13768594e-02,\n",
      "       -1.36787910e-02, -4.95858453e-02,  1.46353273e-02,  1.21154422e-02,\n",
      "       -5.45952562e-03,  5.69560705e-03, -4.74735945e-02, -5.99805675e-02,\n",
      "       -4.28406894e-02,  4.04221751e-02, -6.62432471e-03,  2.51214523e-02,\n",
      "       -5.49450442e-02, -6.51616007e-02,  7.33727543e-03, -6.10322581e-33,\n",
      "        2.17905222e-03, -7.32136443e-02, -1.47038978e-02,  2.38821539e-03,\n",
      "        2.04631872e-02, -6.45635203e-02,  1.42868869e-02,  2.08286028e-02,\n",
      "       -7.69254267e-02,  9.24698114e-02, -3.46933454e-02,  2.22599860e-02,\n",
      "       -3.69521752e-02, -8.76070410e-02,  1.37856886e-01, -6.83587044e-04,\n",
      "        1.85528793e-03,  7.19477609e-02, -6.33404404e-02, -1.64632071e-02,\n",
      "       -3.61541174e-02, -6.93612127e-03,  3.25285341e-03,  2.62738895e-02,\n",
      "       -1.42780447e-03, -9.00129527e-02,  8.83378740e-03, -7.45579153e-02,\n",
      "        1.00649178e-01,  3.22777890e-02, -1.60694625e-02,  2.46731322e-02,\n",
      "        4.18820083e-02,  3.96184288e-02, -2.84695979e-02, -5.26255034e-02,\n",
      "       -6.96680881e-03, -3.38342576e-03, -3.85789052e-02, -1.02658384e-02,\n",
      "       -3.37894186e-02,  3.07787443e-03, -5.08873239e-02, -1.90242641e-02,\n",
      "        5.42100258e-02,  1.54941240e-02, -9.31118242e-03,  5.05990814e-03,\n",
      "       -4.91892584e-02,  3.97083722e-02,  6.57996237e-02,  1.41102038e-02,\n",
      "       -4.82926704e-02,  5.06552532e-02,  2.13451143e-02, -2.80549340e-02,\n",
      "       -1.31153362e-02, -3.83361615e-02,  8.16344377e-03,  2.03203387e-03,\n",
      "        2.56010816e-02,  4.67452705e-02, -7.60266855e-02,  8.58951956e-02,\n",
      "       -9.63089317e-02,  1.15624983e-02,  4.78383526e-02, -3.70706394e-02,\n",
      "        5.71777448e-02, -2.81688478e-02, -6.69136196e-02,  3.90980998e-03,\n",
      "       -1.26598533e-02, -2.46675555e-02, -4.39995304e-02,  1.34697836e-02,\n",
      "        1.32988272e-02,  4.09041829e-02, -1.20817320e-02, -9.77928191e-03,\n",
      "        2.11132821e-02, -6.19154386e-02, -1.09643843e-02,  2.71191522e-02,\n",
      "       -3.14401276e-02,  3.77189927e-02,  2.42188778e-02, -1.37001425e-01,\n",
      "        3.84216732e-03, -6.57412112e-02, -1.26291782e-01,  1.83971785e-02,\n",
      "        1.95628242e-03, -6.58162311e-02,  5.64124342e-03,  6.17424147e-33,\n",
      "        1.16093159e-01,  2.30750348e-02, -2.54066214e-02,  2.11124253e-02,\n",
      "       -1.00507056e-02,  4.50145919e-03,  2.21645553e-02,  3.08366343e-02,\n",
      "       -6.55061603e-02, -2.84985881e-02, -8.70808586e-02, -2.71958113e-02,\n",
      "        4.07573730e-02, -7.38578476e-03,  3.17474715e-02,  2.02466846e-02,\n",
      "        3.28541361e-02, -3.75797190e-02, -2.57803369e-02,  4.44985293e-02,\n",
      "       -1.60051771e-02, -1.11020043e-01,  1.02758877e-01, -4.44555730e-02,\n",
      "       -4.30824496e-02,  4.36174832e-02,  9.38824788e-02,  3.66842709e-02,\n",
      "       -8.74087960e-02, -1.51745565e-02,  3.56177613e-02, -5.60082756e-02,\n",
      "       -7.72996619e-02, -5.50688654e-02,  1.18024657e-02,  5.09096019e-04,\n",
      "       -4.53148708e-02,  9.63519607e-03,  6.69730036e-03, -8.85064453e-02,\n",
      "        7.92626366e-02,  3.32834274e-02,  2.20632013e-02,  8.00342113e-02,\n",
      "       -4.92657814e-03, -1.28551535e-02, -3.00018042e-02,  3.83001450e-03,\n",
      "        9.51399431e-02, -2.32544206e-02, -1.38451699e-02, -6.73308386e-04,\n",
      "        4.94970614e-03, -3.83690894e-02, -4.84086499e-02, -4.30059694e-02,\n",
      "       -3.30232978e-02, -1.11422334e-02, -2.17750017e-02,  9.55612957e-03,\n",
      "       -1.40818665e-02,  1.72537398e-02, -2.20797001e-03,  4.39828113e-02,\n",
      "       -1.21863887e-01, -3.10903471e-02, -6.48212805e-02, -3.44606526e-02,\n",
      "       -9.47491382e-04,  1.92245692e-02,  3.00939325e-02,  1.14596142e-02,\n",
      "       -3.10191214e-02,  1.10760175e-01, -8.46691653e-02, -2.87212078e-02,\n",
      "       -6.52568694e-03,  5.87752312e-02,  2.13198699e-02,  8.54285061e-02,\n",
      "        5.10388725e-02, -2.11346522e-02,  1.49311479e-02,  1.05138868e-02,\n",
      "       -2.31478810e-02, -4.42085564e-02, -1.05441280e-03,  6.56798482e-02,\n",
      "       -1.30987316e-02,  2.91203661e-03,  3.16502452e-02,  6.93123117e-02,\n",
      "       -2.29997840e-02,  2.23642439e-02, -4.97470051e-02, -1.37140388e-08,\n",
      "       -2.05943789e-02,  4.70282324e-02, -3.22109871e-02,  4.90783378e-02,\n",
      "        3.94253358e-02,  1.02982901e-01,  1.36283496e-02, -7.07125738e-02,\n",
      "       -1.11141789e-03,  4.57931161e-02,  1.06636751e-02,  2.26611383e-02,\n",
      "       -3.94126313e-04,  4.86867428e-02,  8.18167031e-02, -6.23500273e-02,\n",
      "       -1.76474229e-02, -5.69962859e-02, -3.56045105e-02, -2.84883846e-03,\n",
      "       -7.43376240e-02,  5.97082339e-02, -3.04069500e-02, -3.58796231e-02,\n",
      "       -5.53887598e-02, -7.93909095e-03, -1.52853979e-02,  8.46120641e-02,\n",
      "        1.16654690e-02,  3.21398303e-02,  5.64361066e-02,  2.00641975e-01,\n",
      "       -7.41110966e-02, -1.80097464e-02,  1.61798242e-02, -2.84612807e-03,\n",
      "        4.02148962e-02,  6.24721462e-04,  6.97397161e-04,  9.92236361e-02,\n",
      "       -2.98224147e-02, -5.78299537e-03, -2.82238051e-03, -1.11754075e-01,\n",
      "        1.20096710e-02, -9.95677803e-03,  1.14685977e-02, -5.44493049e-02,\n",
      "       -1.63706169e-02,  2.21067332e-02,  3.95056829e-02,  5.31959860e-03,\n",
      "        4.21904624e-02,  8.84445533e-02,  8.10165778e-02,  6.98043332e-02,\n",
      "       -4.78489138e-02,  1.75308436e-02, -1.01265244e-01, -1.65263172e-02,\n",
      "        1.13102205e-01,  8.74418467e-02,  9.52068716e-02,  1.00836203e-01],\n",
      "      dtype=float32)]\n"
     ]
    }
   ],
   "source": [
    "print(val)"
   ]
  },
  {
   "cell_type": "code",
   "execution_count": 13,
   "metadata": {},
   "outputs": [
    {
     "name": "stdout",
     "output_type": "stream",
     "text": [
      "150\n"
     ]
    }
   ],
   "source": [
    "#Actually creating the chromadb vector database.\n",
    "# \"\"\"\n",
    "vectordb = Chroma.from_documents(\n",
    "    documents= docs,\n",
    "    embedding = embeddings,\n",
    "    persist_directory= persist_directory\n",
    ")\n",
    "\n",
    "print(vectordb._collection.count())\n",
    "# \"\"\""
   ]
  },
  {
   "cell_type": "code",
   "execution_count": 14,
   "metadata": {},
   "outputs": [
    {
     "name": "stdout",
     "output_type": "stream",
     "text": [
      "[Document(metadata={'source': 'text.pdf', 'page': 0}, page_content='GOSHEN  OLATUNBOSUN  \\nICAN  PROFESSIONAL  STAGE  \\n  \\n  \\n   Ikorodu, Lagos •• Cell: +2348119592939  • goshenbosun002@gmail.com    \\nProfessional Summa'), Document(metadata={'source': 'text.pdf', 'page': 0}, page_content='onal Summary  \\nAn accounting graduate seeking an opportunity in accounting and finance to utilize my skills in your industry, in \\naddition, I’m highly'), Document(metadata={'source': 'text.pdf', 'page': 0}, page_content='I’m highly motivated, detailed oriented, and knowledgeable in the use of the most common accounting \\nsoftware programs. Strong work ethic also commitm'), Document(metadata={'source': 'text.pdf', 'page': 0}, page_content='so commitment to integrity and accurate record keeping. Eager to join a team \\nand help improve an organizati on’s financial focus.  \\nSkills  \\n● Solid'), Document(metadata={'source': 'text.pdf', 'page': 0}, page_content='● Solid working knowledge of MS office with a strong \\nlevel of proficiency in Excel  \\n● Excellent organizational skills with demonstrated \\nability t'), Document(metadata={'source': 'text.pdf', 'page': 0}, page_content='ability to effectively prioritize to meet strict deadlines.  \\n● Exceptional knowledge of accounting concepts as \\nwell as mathematics, accounting and'), Document(metadata={'source': 'text.pdf', 'page': 0}, page_content='nting and finance topics.  ● Preparation of accurate financial accounts and reports \\nto comply with accounting principles and practices.  \\n● Proven ab'), Document(metadata={'source': 'text.pdf', 'page': 0}, page_content='Proven ability to quickly learn and use new \\ntechnologies  \\n● Excellent written and communication skills.  \\n● Excellent understanding of Digital mark'), Document(metadata={'source': 'text.pdf', 'page': 0}, page_content='gital marketing  \\nWork History  \\nAccounting Inter n, 2023 (NYSC)   \\nTOAUSIB  – Abia State  \\n● Identified and investigated financial fraud cases  \\n● An'), Document(metadata={'source': 'text.pdf', 'page': 0}, page_content='ses  \\n● Analyzing financial statement  as well as fraudulent transactions  \\n● Preparation of report on findings  \\n \\nEconomics & commerce Teacher , 202'), Document(metadata={'source': 'text.pdf', 'page': 0}, page_content='cher , 2022 - 2023  \\nGreat Brains Academy  – Abia State  \\n● Presented lectures and conducted discussions to increase student knowledge  and competence'), Document(metadata={'source': 'text.pdf', 'page': 0}, page_content='competence  \\n● Evaluated individual student learning and performance s and communicated necessary information to students  \\n● Conducted extra -curricu'), Document(metadata={'source': 'text.pdf', 'page': 0}, page_content='a -curricular activities for the students that improved all round learning   \\n  \\nAccounting Teacher , 2021 - 2022  \\nRoyal Diadem Group of School  – La'), Document(metadata={'source': 'text.pdf', 'page': 0}, page_content='hool  – Lagos State  \\n● Presented lectures and conducted discussions to increase student knowledge  and competence  \\n● Evaluated individual student le'), Document(metadata={'source': 'text.pdf', 'page': 0}, page_content='student learning and performances and communicated necessary information to students  \\n● I helped secure a Facebook grant of half a million naira(#500'), Document(metadata={'source': 'text.pdf', 'page': 0}, page_content='naira(#500,000) and free ads  \\nSocial Media Manager , -Present   \\nScaling Ideas  – Lagos State  \\nTOAUSIB - Abia State  \\nRoyal Diadem Group of Schools'), Document(metadata={'source': 'text.pdf', 'page': 0}, page_content='f Schools  – Lagos State  \\n● Increased customer engagement through social media  \\n● Provided digital marketing solutions that have helped these busine'), Document(metadata={'source': 'text.pdf', 'page': 0}, page_content='ese businesses grow  \\n● I create co ntent and run ads regularly that have been yielding fruitful results  \\nEducation  \\nNYSC Discharge Certificate'), Document(metadata={'source': 'text.pdf', 'page': 0}, page_content='icate          2023  \\nEkiti State University                       2021  \\nBsc Accounting  \\nCGPA: 4.17/5.0  \\nOmolaja Sodipo Memorial Anglican School'), Document(metadata={'source': 'text.pdf', 'page': 0}, page_content='School  \\nSenior Secondary  Certificate Examination (SSCE)       2016'), Document(metadata={'source': 'text.pdf', 'page': 1}, page_content='Zioneeel International College  \\nJunior Secondary Certificate Examination        2013  \\nRoyal Diadem Demonstration School         2009  \\n \\nCertificati'), Document(metadata={'source': 'text.pdf', 'page': 1}, page_content='ertifications  \\nInstitute of Chartered Accountant of Nigeria (Professional Stage)  \\nDigital Literacy (Microsoft)  \\nCertified in digital marketing (Goo'), Document(metadata={'source': 'text.pdf', 'page': 1}, page_content='eting (Google)  \\nDigital marketing booth camp (Digic lan Africa)  \\nAdvanced Social Media Management (Simplilearn)  \\n \\n \\nREFEREES 0 \\nIlemobayo  A. Akin'), Document(metadata={'source': 'text.pdf', 'page': 1}, page_content='o  A. Akingbomdere   [FCA]  \\nCEO  \\nIleAkin Financial Consulting  \\n+23423181112  \\n \\nMr. Olatunbosun Olaniyi  \\nDirector  \\nMutual Alliance, Lagos State'), Document(metadata={'source': 'text.pdf', 'page': 1}, page_content='os State  \\n+2348062147426')]\n"
     ]
    }
   ],
   "source": [
    "texts = [] \n",
    "for i in docs:\n",
    "    texts.append(i)\n",
    "\n",
    "print(texts)"
   ]
  },
  {
   "cell_type": "code",
   "execution_count": 40,
   "metadata": {},
   "outputs": [
    {
     "data": {
      "text/plain": [
       "'\"\\ndocs_vectorstore = Chroma.from_texts(\\n    texts= docs,\\n    collection_name=\"docs_store\",\\n    embedding=ChromaEmbeddingsAdapter(SentenceTransformerEmbeddingFunction(model_name=\"all-MiniLM-L6-v2\")),\\n)\\n'"
      ]
     },
     "execution_count": 40,
     "metadata": {},
     "output_type": "execute_result"
    }
   ],
   "source": [
    "\"\"\"\"\n",
    "docs_vectorstore = Chroma.from_texts(\n",
    "    texts= docs,\n",
    "    collection_name=\"docs_store\",\n",
    "    embedding=ChromaEmbeddingsAdapter(SentenceTransformerEmbeddingFunction(model_name=\"all-MiniLM-L6-v2\")),\n",
    ")\n",
    "\"\"\"\n"
   ]
  },
  {
   "cell_type": "code",
   "execution_count": 15,
   "metadata": {},
   "outputs": [
    {
     "name": "stdout",
     "output_type": "stream",
     "text": [
      "3\n"
     ]
    }
   ],
   "source": [
    "question = \"does he have good speaking and penning with online expertise?\"\n",
    "\n",
    "response = vectordb.similarity_search(question, k=3)\n",
    "\n",
    "print(len(response))"
   ]
  },
  {
   "cell_type": "code",
   "execution_count": 16,
   "metadata": {},
   "outputs": [
    {
     "name": "stdout",
     "output_type": "stream",
     "text": [
      "Proven ability to quickly learn and use new \n",
      "technologies  \n",
      "● Excellent written and communication skills.  \n",
      "● Excellent understanding of Digital mark\n",
      "Proven ability to quickly learn and use new \n",
      "technologies  \n",
      "● Excellent written and communication skills.  \n",
      "● Excellent understanding of Digital mark\n",
      "Proven ability to quickly learn and use new \n",
      "technologies  \n",
      "● Excellent written and communication skills.  \n",
      "● Excellent understanding of Digital mark\n"
     ]
    }
   ],
   "source": [
    "print(response[0].page_content)\n",
    "print(response[1].page_content)\n",
    "print(response[2].page_content)"
   ]
  },
  {
   "cell_type": "code",
   "execution_count": null,
   "metadata": {},
   "outputs": [],
   "source": []
  },
  {
   "cell_type": "code",
   "execution_count": 17,
   "metadata": {},
   "outputs": [
    {
     "name": "stderr",
     "output_type": "stream",
     "text": [
      "C:\\Users\\Lenovo\\AppData\\Local\\Temp\\ipykernel_4540\\3711397106.py:1: LangChainDeprecationWarning: Since Chroma 0.4.x the manual persistence method is no longer supported as docs are automatically persisted.\n",
      "  vectordb.persist()\n"
     ]
    }
   ],
   "source": [
    "vectordb.persist()"
   ]
  },
  {
   "cell_type": "markdown",
   "metadata": {},
   "source": [
    "Retrieval Using maximum marginal Relevanve"
   ]
  },
  {
   "cell_type": "code",
   "execution_count": 18,
   "metadata": {},
   "outputs": [
    {
     "name": "stdout",
     "output_type": "stream",
     "text": [
      "Proven ability to quickly learn and use new \n",
      "technologies  \n",
      "● Excellent written and communication skills.  \n",
      "● Excellent understanding of Digital mark\n",
      "~~~\n",
      "eting (Google)  \n",
      "Digital marketing booth camp (Digic lan Africa)  \n",
      "Advanced Social Media Management (Simplilearn)  \n",
      " \n",
      " \n",
      "REFEREES 0 \n",
      "Ilemobayo  A. Akin\n",
      "~~~\n",
      "ese businesses grow  \n",
      "● I create co ntent and run ads regularly that have been yielding fruitful results  \n",
      "Education  \n",
      "NYSC Discharge Certificate\n"
     ]
    }
   ],
   "source": [
    "question2 = \"does he have good speaking and penning with online expertise?\"\n",
    "\n",
    "response2 = vectordb.max_marginal_relevance_search(question2, k=3)\n",
    "\n",
    "print(response2[0].page_content)\n",
    "print(\"~~~\")\n",
    "print(response2[1].page_content)\n",
    "print(\"~~~\")\n",
    "print(response2[2].page_content)"
   ]
  },
  {
   "cell_type": "markdown",
   "metadata": {},
   "source": [
    "Retrieval using SelfQuery (i.e LLM aided retrieval)"
   ]
  },
  {
   "cell_type": "code",
   "execution_count": 45,
   "metadata": {},
   "outputs": [],
   "source": [
    "#appropriate imports \n",
    "\n",
    "from langchain.llms import OpenAI\n",
    "from langchain.retrievers.self_query.base import SelfQueryRetriever\n",
    "from langchain.chains.query_constructor.base import AttributeInfo"
   ]
  },
  {
   "cell_type": "code",
   "execution_count": null,
   "metadata": {},
   "outputs": [],
   "source": [
    "\"\"\"\n",
    "metadata_field_info = [\n",
    "    AttributeInfo(\n",
    "        name = \"source\",\n",
    "        description = \"The origin on the chunk. should be 'text.pdf' \",\n",
    "        type = \"string\",\n",
    "    ),\n",
    "    AttributeInfo(\n",
    "        name = \"page\",\n",
    "        description = \"The page from which the chunk was taken. There are two pages in the document\",\n",
    "        type = \"integer\",\n",
    "    ),\n",
    "]\n",
    "\n",
    "document_content_description = \"Goshen's Resume (CV)\"\n",
    "llm = OpenAI(temperature= 0)\n",
    "\n",
    "retriever = SelfQueryRetriever.from_llm(\n",
    "    llm, \n",
    "    vectordb,\n",
    "    document_content_description, \n",
    "    metadata_field_info, \n",
    "    verbose=True\n",
    ")\n",
    "\"\"\""
   ]
  },
  {
   "cell_type": "code",
   "execution_count": null,
   "metadata": {},
   "outputs": [],
   "source": []
  },
  {
   "cell_type": "markdown",
   "metadata": {},
   "source": [
    "Using Contextual Compression Retrieval"
   ]
  },
  {
   "cell_type": "code",
   "execution_count": 18,
   "metadata": {},
   "outputs": [],
   "source": [
    "#necessary imports\n",
    "from langchain.retrievers import ContextualCompressionRetriever\n",
    "from langchain.retrievers.document_compressors import LLMChainExtractor\n",
    "\n",
    "#pretty print\n",
    "def pretty_print(answer):\n",
    "    print(f\"\\n{'-' * 100}\\n\".join([f\"Document {i+1}:\\n\\n\" + j.page_content for i, j in enumerate(answer)]))"
   ]
  },
  {
   "cell_type": "code",
   "execution_count": 19,
   "metadata": {},
   "outputs": [],
   "source": [
    "#let's create our compressor \n",
    "compressor = LLMChainExtractor.from_llm(llm)"
   ]
  },
  {
   "cell_type": "code",
   "execution_count": 20,
   "metadata": {},
   "outputs": [],
   "source": [
    "#not lets\n",
    "compression_retriever = ContextualCompressionRetriever(\n",
    "    base_compressor= compressor,\n",
    "    base_retriever= vectordb.as_retriever(),\n",
    ")"
   ]
  },
  {
   "cell_type": "code",
   "execution_count": null,
   "metadata": {},
   "outputs": [],
   "source": [
    "question4 = \"what did he say about school in the first page?\"\n",
    "compressed_docs = compression_retriever.get_relevant_documents(question4)\n",
    "pretty_print(compressed_docs)"
   ]
  },
  {
   "cell_type": "markdown",
   "metadata": {},
   "source": [
    "Question Answering."
   ]
  },
  {
   "cell_type": "code",
   "execution_count": 19,
   "metadata": {},
   "outputs": [
    {
     "name": "stdout",
     "output_type": "stream",
     "text": [
      "150\n"
     ]
    }
   ],
   "source": [
    "print(vectordb._collection.count())"
   ]
  },
  {
   "cell_type": "code",
   "execution_count": 20,
   "metadata": {},
   "outputs": [
    {
     "name": "stdout",
     "output_type": "stream",
     "text": [
      "gpt-3.5-turbo\n"
     ]
    }
   ],
   "source": [
    "import datetime\n",
    "current_date = datetime.datetime.now().date()\n",
    "if current_date < datetime.date(2023, 9, 2):\n",
    "    llm_name = \"gpt-3.5-turbo-0301\"\n",
    "else:\n",
    "    llm_name = \"gpt-3.5-turbo\"\n",
    "print(llm_name)"
   ]
  },
  {
   "cell_type": "code",
   "execution_count": 21,
   "metadata": {},
   "outputs": [
    {
     "name": "stderr",
     "output_type": "stream",
     "text": [
      "C:\\Users\\Lenovo\\AppData\\Local\\Temp\\ipykernel_4540\\2729103167.py:5: LangChainDeprecationWarning: The class `Chroma` was deprecated in LangChain 0.2.9 and will be removed in 1.0. An updated version of the class exists in the :class:`~langchain-chroma package and should be used instead. To use it run `pip install -U :class:`~langchain-chroma` and import as `from :class:`~langchain_chroma import Chroma``.\n",
      "  vectordb = Chroma(persist_directory=persist_directory, embedding_function=embedding)\n"
     ]
    }
   ],
   "source": [
    "from langchain.vectorstores import Chroma\n",
    "from langchain.embeddings.openai import OpenAIEmbeddings\n",
    "persist_directory = 'docs/chroma/'\n",
    "embedding = OpenAIEmbeddings()\n",
    "vectordb = Chroma(persist_directory=persist_directory, embedding_function=embedding)"
   ]
  },
  {
   "cell_type": "code",
   "execution_count": 22,
   "metadata": {},
   "outputs": [
    {
     "name": "stdout",
     "output_type": "stream",
     "text": [
      "150\n"
     ]
    }
   ],
   "source": [
    "print(vectordb._collection.count())"
   ]
  },
  {
   "cell_type": "code",
   "execution_count": 23,
   "metadata": {},
   "outputs": [
    {
     "data": {
      "text/plain": [
       "3"
      ]
     },
     "execution_count": 23,
     "metadata": {},
     "output_type": "execute_result"
    }
   ],
   "source": [
    "question = \"what is this document mainly about?\"\n",
    "docs = vectordb.similarity_search(question,k=3)\n",
    "len(docs)"
   ]
  },
  {
   "cell_type": "code",
   "execution_count": 24,
   "metadata": {},
   "outputs": [
    {
     "name": "stderr",
     "output_type": "stream",
     "text": [
      "C:\\Users\\Lenovo\\AppData\\Local\\Temp\\ipykernel_4540\\60327743.py:2: LangChainDeprecationWarning: The class `ChatOpenAI` was deprecated in LangChain 0.0.10 and will be removed in 1.0. An updated version of the class exists in the :class:`~langchain-openai package and should be used instead. To use it run `pip install -U :class:`~langchain-openai` and import as `from :class:`~langchain_openai import ChatOpenAI``.\n",
      "  llm = ChatOpenAI(model_name=llm_name, temperature=0)\n"
     ]
    }
   ],
   "source": [
    "from langchain.chat_models import ChatOpenAI\n",
    "llm = ChatOpenAI(model_name=llm_name, temperature=0)"
   ]
  },
  {
   "cell_type": "markdown",
   "metadata": {},
   "source": [
    "RetrievalQA Chain"
   ]
  },
  {
   "cell_type": "code",
   "execution_count": 25,
   "metadata": {},
   "outputs": [],
   "source": [
    "from langchain.chains import RetrievalQA"
   ]
  },
  {
   "cell_type": "code",
   "execution_count": 26,
   "metadata": {},
   "outputs": [],
   "source": [
    "qa_chain = RetrievalQA.from_chain_type(\n",
    "    llm,\n",
    "    retriever=vectordb.as_retriever()\n",
    ")"
   ]
  },
  {
   "cell_type": "code",
   "execution_count": 27,
   "metadata": {},
   "outputs": [
    {
     "name": "stderr",
     "output_type": "stream",
     "text": [
      "C:\\Users\\Lenovo\\AppData\\Local\\Temp\\ipykernel_4540\\1022943172.py:1: LangChainDeprecationWarning: The method `Chain.__call__` was deprecated in langchain 0.1.0 and will be removed in 1.0. Use :meth:`~invoke` instead.\n",
      "  result = qa_chain({\"query\": question})\n"
     ]
    },
    {
     "data": {
      "text/plain": [
       "'Based on the provided context, the document seems to be mainly about the growth of businesses through content creation, running ads, and achieving successful results. It also mentions education and the possession of an NYSC Discharge Certificate.'"
      ]
     },
     "execution_count": 27,
     "metadata": {},
     "output_type": "execute_result"
    }
   ],
   "source": [
    "result = qa_chain({\"query\": question})\n",
    "result[\"result\"]"
   ]
  },
  {
   "cell_type": "markdown",
   "metadata": {},
   "source": [
    "Prompting"
   ]
  },
  {
   "cell_type": "code",
   "execution_count": null,
   "metadata": {},
   "outputs": [],
   "source": [
    "from langchain.prompts import PromptTemplate\n",
    "\n",
    "# Build prompt\n",
    "template = \"\"\"Use the following pieces of context to answer the question at the end. If you don't know the answer, just say that you don't know, don't try to make up an answer. Use three sentences maximum. Keep the answer as concise as possible. Always say \"thanks for asking!\" at the end of the answer. \n",
    "{context}\n",
    "Question: {question}\n",
    "Helpful Answer:\"\"\"\n",
    "QA_CHAIN_PROMPT = PromptTemplate.from_template(template)\n"
   ]
  },
  {
   "cell_type": "code",
   "execution_count": null,
   "metadata": {},
   "outputs": [],
   "source": [
    "# Run chain\n",
    "qa_chain = RetrievalQA.from_chain_type(\n",
    "    llm,\n",
    "    retriever=vectordb.as_retriever(),\n",
    "    return_source_documents=True,\n",
    "    chain_type_kwargs={\"prompt\": QA_CHAIN_PROMPT}\n",
    ")"
   ]
  },
  {
   "cell_type": "code",
   "execution_count": null,
   "metadata": {},
   "outputs": [],
   "source": [
    "question = \"Does he have good writing skills?\"\n",
    "result = qa_chain({\"query\": question})"
   ]
  },
  {
   "cell_type": "code",
   "execution_count": null,
   "metadata": {},
   "outputs": [],
   "source": [
    "result[\"result\"]"
   ]
  },
  {
   "cell_type": "code",
   "execution_count": null,
   "metadata": {},
   "outputs": [],
   "source": [
    "result[\"source_documents\"][0]"
   ]
  }
 ],
 "metadata": {
  "kernelspec": {
   "display_name": "MLvenv",
   "language": "python",
   "name": "python3"
  },
  "language_info": {
   "codemirror_mode": {
    "name": "ipython",
    "version": 3
   },
   "file_extension": ".py",
   "mimetype": "text/x-python",
   "name": "python",
   "nbconvert_exporter": "python",
   "pygments_lexer": "ipython3",
   "version": "3.12.2"
  },
  "orig_nbformat": 4
 },
 "nbformat": 4,
 "nbformat_minor": 2
}
